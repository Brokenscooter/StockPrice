{
 "cells": [
  {
   "cell_type": "code",
   "execution_count": 174,
   "metadata": {},
   "outputs": [],
   "source": [
    "import numpy as np \n",
    "import pandas as pd\n",
    "import matplotlib.pyplot as plt\n",
    "import os,sys\n",
    "from scipy import stats\n",
    "from statsmodels.tsa.seasonal import seasonal_decompose\n",
    "from scipy.stats.stats import pearsonr "
   ]
  },
  {
   "cell_type": "code",
   "execution_count": 105,
   "metadata": {
    "collapsed": true
   },
   "outputs": [],
   "source": [
    "ril = pd.read_csv(r'C:\\Users\\91919\\Desktop\\icons\\RELIANCE.NS.csv')\n",
    "airtel = pd.read_csv(r'C:\\Users\\91919\\Desktop\\icons\\BHARTIARTL.NS.csv')\n",
    "indigo = pd.read_csv(r'C:\\Users\\91919\\Desktop\\icons\\INDIGO.NS.csv')"
   ]
  },
  {
   "cell_type": "code",
   "execution_count": 106,
   "metadata": {},
   "outputs": [
    {
     "data": {
      "text/html": [
       "<div>\n",
       "<style>\n",
       "    .dataframe thead tr:only-child th {\n",
       "        text-align: right;\n",
       "    }\n",
       "\n",
       "    .dataframe thead th {\n",
       "        text-align: left;\n",
       "    }\n",
       "\n",
       "    .dataframe tbody tr th {\n",
       "        vertical-align: top;\n",
       "    }\n",
       "</style>\n",
       "<table border=\"1\" class=\"dataframe\">\n",
       "  <thead>\n",
       "    <tr style=\"text-align: right;\">\n",
       "      <th></th>\n",
       "      <th>Date</th>\n",
       "      <th>Open</th>\n",
       "      <th>High</th>\n",
       "      <th>Low</th>\n",
       "      <th>Close</th>\n",
       "      <th>Adj Close</th>\n",
       "      <th>Volume</th>\n",
       "    </tr>\n",
       "  </thead>\n",
       "  <tbody>\n",
       "    <tr>\n",
       "      <th>0</th>\n",
       "      <td>2019-06-06</td>\n",
       "      <td>1361.900024</td>\n",
       "      <td>1361.900024</td>\n",
       "      <td>1321.099976</td>\n",
       "      <td>1327.349976</td>\n",
       "      <td>1320.108521</td>\n",
       "      <td>7664319</td>\n",
       "    </tr>\n",
       "    <tr>\n",
       "      <th>1</th>\n",
       "      <td>2019-06-07</td>\n",
       "      <td>1325.949951</td>\n",
       "      <td>1327.250000</td>\n",
       "      <td>1305.599976</td>\n",
       "      <td>1314.900024</td>\n",
       "      <td>1307.726440</td>\n",
       "      <td>6730595</td>\n",
       "    </tr>\n",
       "    <tr>\n",
       "      <th>2</th>\n",
       "      <td>2019-06-10</td>\n",
       "      <td>1320.900024</td>\n",
       "      <td>1327.000000</td>\n",
       "      <td>1310.099976</td>\n",
       "      <td>1319.150024</td>\n",
       "      <td>1311.953247</td>\n",
       "      <td>5380148</td>\n",
       "    </tr>\n",
       "    <tr>\n",
       "      <th>3</th>\n",
       "      <td>2019-06-11</td>\n",
       "      <td>1321.849976</td>\n",
       "      <td>1334.500000</td>\n",
       "      <td>1318.000000</td>\n",
       "      <td>1329.150024</td>\n",
       "      <td>1321.898682</td>\n",
       "      <td>5253790</td>\n",
       "    </tr>\n",
       "    <tr>\n",
       "      <th>4</th>\n",
       "      <td>2019-06-12</td>\n",
       "      <td>1334.699951</td>\n",
       "      <td>1338.400024</td>\n",
       "      <td>1325.000000</td>\n",
       "      <td>1332.150024</td>\n",
       "      <td>1324.882324</td>\n",
       "      <td>4707716</td>\n",
       "    </tr>\n",
       "  </tbody>\n",
       "</table>\n",
       "</div>"
      ],
      "text/plain": [
       "         Date         Open         High          Low        Close  \\\n",
       "0  2019-06-06  1361.900024  1361.900024  1321.099976  1327.349976   \n",
       "1  2019-06-07  1325.949951  1327.250000  1305.599976  1314.900024   \n",
       "2  2019-06-10  1320.900024  1327.000000  1310.099976  1319.150024   \n",
       "3  2019-06-11  1321.849976  1334.500000  1318.000000  1329.150024   \n",
       "4  2019-06-12  1334.699951  1338.400024  1325.000000  1332.150024   \n",
       "\n",
       "     Adj Close   Volume  \n",
       "0  1320.108521  7664319  \n",
       "1  1307.726440  6730595  \n",
       "2  1311.953247  5380148  \n",
       "3  1321.898682  5253790  \n",
       "4  1324.882324  4707716  "
      ]
     },
     "execution_count": 106,
     "metadata": {},
     "output_type": "execute_result"
    }
   ],
   "source": [
    "ril.head()"
   ]
  },
  {
   "cell_type": "code",
   "execution_count": 144,
   "metadata": {},
   "outputs": [
    {
     "data": {
      "image/png": "[encoded data removed]",
      "text/plain": [
       "<matplotlib.figure.Figure at 0x2135df58f98>"
      ]
     },
     "metadata": {},
     "output_type": "display_data"
    }
   ],
   "source": [
    "plt.plot(ril['Close'])\n",
    "plt.show()"
   ]
  },
  {
   "cell_type": "code",
   "execution_count": 107,
   "metadata": {},
   "outputs": [
    {
     "data": {
      "text/html": [
       "<div>\n",
       "<style>\n",
       "    .dataframe thead tr:only-child th {\n",
       "        text-align: right;\n",
       "    }\n",
       "\n",
       "    .dataframe thead th {\n",
       "        text-align: left;\n",
       "    }\n",
       "\n",
       "    .dataframe tbody tr th {\n",
       "        vertical-align: top;\n",
       "    }\n",
       "</style>\n",
       "<table border=\"1\" class=\"dataframe\">\n",
       "  <thead>\n",
       "    <tr style=\"text-align: right;\">\n",
       "      <th></th>\n",
       "      <th>Date</th>\n",
       "      <th>Close</th>\n",
       "      <th>Symbol</th>\n",
       "    </tr>\n",
       "  </thead>\n",
       "  <tbody>\n",
       "    <tr>\n",
       "      <th>0</th>\n",
       "      <td>2019-06-06</td>\n",
       "      <td>1327.349976</td>\n",
       "      <td>RIL</td>\n",
       "    </tr>\n",
       "    <tr>\n",
       "      <th>1</th>\n",
       "      <td>2019-06-07</td>\n",
       "      <td>1314.900024</td>\n",
       "      <td>RIL</td>\n",
       "    </tr>\n",
       "    <tr>\n",
       "      <th>2</th>\n",
       "      <td>2019-06-10</td>\n",
       "      <td>1319.150024</td>\n",
       "      <td>RIL</td>\n",
       "    </tr>\n",
       "    <tr>\n",
       "      <th>3</th>\n",
       "      <td>2019-06-11</td>\n",
       "      <td>1329.150024</td>\n",
       "      <td>RIL</td>\n",
       "    </tr>\n",
       "    <tr>\n",
       "      <th>4</th>\n",
       "      <td>2019-06-12</td>\n",
       "      <td>1332.150024</td>\n",
       "      <td>RIL</td>\n",
       "    </tr>\n",
       "  </tbody>\n",
       "</table>\n",
       "</div>"
      ],
      "text/plain": [
       "         Date        Close Symbol\n",
       "0  2019-06-06  1327.349976    RIL\n",
       "1  2019-06-07  1314.900024    RIL\n",
       "2  2019-06-10  1319.150024    RIL\n",
       "3  2019-06-11  1329.150024    RIL\n",
       "4  2019-06-12  1332.150024    RIL"
      ]
     },
     "execution_count": 107,
     "metadata": {},
     "output_type": "execute_result"
    }
   ],
   "source": [
    "symbols=[]\n",
    "ril['Symbol'] = 'RIL'\n",
    "symbols.append(ril)\n",
    "ril = ril[['Date', 'Close', 'Symbol']]\n",
    "ril.head()"
   ]
  },
  {
   "cell_type": "code",
   "execution_count": 108,
   "metadata": {},
   "outputs": [
    {
     "data": {
      "text/html": [
       "<div>\n",
       "<style>\n",
       "    .dataframe thead tr:only-child th {\n",
       "        text-align: right;\n",
       "    }\n",
       "\n",
       "    .dataframe thead th {\n",
       "        text-align: left;\n",
       "    }\n",
       "\n",
       "    .dataframe tbody tr th {\n",
       "        vertical-align: top;\n",
       "    }\n",
       "</style>\n",
       "<table border=\"1\" class=\"dataframe\">\n",
       "  <thead>\n",
       "    <tr style=\"text-align: right;\">\n",
       "      <th></th>\n",
       "      <th>Date</th>\n",
       "      <th>Open</th>\n",
       "      <th>High</th>\n",
       "      <th>Low</th>\n",
       "      <th>Close</th>\n",
       "      <th>Adj Close</th>\n",
       "      <th>Volume</th>\n",
       "    </tr>\n",
       "  </thead>\n",
       "  <tbody>\n",
       "    <tr>\n",
       "      <th>0</th>\n",
       "      <td>2019-06-06</td>\n",
       "      <td>352.799988</td>\n",
       "      <td>355.950012</td>\n",
       "      <td>348.500000</td>\n",
       "      <td>353.799988</td>\n",
       "      <td>353.799988</td>\n",
       "      <td>10317108</td>\n",
       "    </tr>\n",
       "    <tr>\n",
       "      <th>1</th>\n",
       "      <td>2019-06-07</td>\n",
       "      <td>353.799988</td>\n",
       "      <td>361.950012</td>\n",
       "      <td>351.799988</td>\n",
       "      <td>357.100006</td>\n",
       "      <td>357.100006</td>\n",
       "      <td>5771494</td>\n",
       "    </tr>\n",
       "    <tr>\n",
       "      <th>2</th>\n",
       "      <td>2019-06-10</td>\n",
       "      <td>354.799988</td>\n",
       "      <td>364.649994</td>\n",
       "      <td>353.649994</td>\n",
       "      <td>363.450012</td>\n",
       "      <td>363.450012</td>\n",
       "      <td>5882086</td>\n",
       "    </tr>\n",
       "    <tr>\n",
       "      <th>3</th>\n",
       "      <td>2019-06-11</td>\n",
       "      <td>363.000000</td>\n",
       "      <td>366.950012</td>\n",
       "      <td>358.250000</td>\n",
       "      <td>363.250000</td>\n",
       "      <td>363.250000</td>\n",
       "      <td>5563691</td>\n",
       "    </tr>\n",
       "    <tr>\n",
       "      <th>4</th>\n",
       "      <td>2019-06-12</td>\n",
       "      <td>362.399994</td>\n",
       "      <td>362.399994</td>\n",
       "      <td>357.100006</td>\n",
       "      <td>359.899994</td>\n",
       "      <td>359.899994</td>\n",
       "      <td>2815172</td>\n",
       "    </tr>\n",
       "  </tbody>\n",
       "</table>\n",
       "</div>"
      ],
      "text/plain": [
       "         Date        Open        High         Low       Close   Adj Close  \\\n",
       "0  2019-06-06  352.799988  355.950012  348.500000  353.799988  353.799988   \n",
       "1  2019-06-07  353.799988  361.950012  351.799988  357.100006  357.100006   \n",
       "2  2019-06-10  354.799988  364.649994  353.649994  363.450012  363.450012   \n",
       "3  2019-06-11  363.000000  366.950012  358.250000  363.250000  363.250000   \n",
       "4  2019-06-12  362.399994  362.399994  357.100006  359.899994  359.899994   \n",
       "\n",
       "     Volume  \n",
       "0  10317108  \n",
       "1   5771494  \n",
       "2   5882086  \n",
       "3   5563691  \n",
       "4   2815172  "
      ]
     },
     "execution_count": 108,
     "metadata": {},
     "output_type": "execute_result"
    }
   ],
   "source": [
    "airtel.head()"
   ]
  },
  {
   "cell_type": "code",
   "execution_count": 212,
   "metadata": {},
   "outputs": [
    {
     "data": {
      "image/png": "[encoded data removed]",
      "text/plain": [
       "<matplotlib.figure.Figure at 0x2135dd6dcf8>"
      ]
     },
     "metadata": {},
     "output_type": "display_data"
    }
   ],
   "source": [
    "plt.plot(airtel['Close'])\n",
    "plt.show()"
   ]
  },
  {
   "cell_type": "code",
   "execution_count": 109,
   "metadata": {},
   "outputs": [
    {
     "data": {
      "text/html": [
       "<div>\n",
       "<style>\n",
       "    .dataframe thead tr:only-child th {\n",
       "        text-align: right;\n",
       "    }\n",
       "\n",
       "    .dataframe thead th {\n",
       "        text-align: left;\n",
       "    }\n",
       "\n",
       "    .dataframe tbody tr th {\n",
       "        vertical-align: top;\n",
       "    }\n",
       "</style>\n",
       "<table border=\"1\" class=\"dataframe\">\n",
       "  <thead>\n",
       "    <tr style=\"text-align: right;\">\n",
       "      <th></th>\n",
       "      <th>Date</th>\n",
       "      <th>Close</th>\n",
       "      <th>Symbol</th>\n",
       "    </tr>\n",
       "  </thead>\n",
       "  <tbody>\n",
       "    <tr>\n",
       "      <th>0</th>\n",
       "      <td>2019-06-06</td>\n",
       "      <td>353.799988</td>\n",
       "      <td>ARTL</td>\n",
       "    </tr>\n",
       "    <tr>\n",
       "      <th>1</th>\n",
       "      <td>2019-06-07</td>\n",
       "      <td>357.100006</td>\n",
       "      <td>ARTL</td>\n",
       "    </tr>\n",
       "    <tr>\n",
       "      <th>2</th>\n",
       "      <td>2019-06-10</td>\n",
       "      <td>363.450012</td>\n",
       "      <td>ARTL</td>\n",
       "    </tr>\n",
       "    <tr>\n",
       "      <th>3</th>\n",
       "      <td>2019-06-11</td>\n",
       "      <td>363.250000</td>\n",
       "      <td>ARTL</td>\n",
       "    </tr>\n",
       "    <tr>\n",
       "      <th>4</th>\n",
       "      <td>2019-06-12</td>\n",
       "      <td>359.899994</td>\n",
       "      <td>ARTL</td>\n",
       "    </tr>\n",
       "  </tbody>\n",
       "</table>\n",
       "</div>"
      ],
      "text/plain": [
       "         Date       Close Symbol\n",
       "0  2019-06-06  353.799988   ARTL\n",
       "1  2019-06-07  357.100006   ARTL\n",
       "2  2019-06-10  363.450012   ARTL\n",
       "3  2019-06-11  363.250000   ARTL\n",
       "4  2019-06-12  359.899994   ARTL"
      ]
     },
     "execution_count": 109,
     "metadata": {},
     "output_type": "execute_result"
    }
   ],
   "source": [
    "symbols=[]\n",
    "airtel['Symbol'] = 'ARTL'\n",
    "symbols.append(airtel)\n",
    "airtel = airtel[['Date', 'Close', 'Symbol']]\n",
    "airtel.head()"
   ]
  },
  {
   "cell_type": "code",
   "execution_count": 110,
   "metadata": {},
   "outputs": [
    {
     "data": {
      "text/html": [
       "<div>\n",
       "<style>\n",
       "    .dataframe thead tr:only-child th {\n",
       "        text-align: right;\n",
       "    }\n",
       "\n",
       "    .dataframe thead th {\n",
       "        text-align: left;\n",
       "    }\n",
       "\n",
       "    .dataframe tbody tr th {\n",
       "        vertical-align: top;\n",
       "    }\n",
       "</style>\n",
       "<table border=\"1\" class=\"dataframe\">\n",
       "  <thead>\n",
       "    <tr style=\"text-align: right;\">\n",
       "      <th></th>\n",
       "      <th>Date</th>\n",
       "      <th>Open</th>\n",
       "      <th>High</th>\n",
       "      <th>Low</th>\n",
       "      <th>Close</th>\n",
       "      <th>Adj Close</th>\n",
       "      <th>Volume</th>\n",
       "    </tr>\n",
       "  </thead>\n",
       "  <tbody>\n",
       "    <tr>\n",
       "      <th>0</th>\n",
       "      <td>2019-06-06</td>\n",
       "      <td>1691.000000</td>\n",
       "      <td>1699.150024</td>\n",
       "      <td>1666.150024</td>\n",
       "      <td>1670.849976</td>\n",
       "      <td>1665.631592</td>\n",
       "      <td>829316</td>\n",
       "    </tr>\n",
       "    <tr>\n",
       "      <th>1</th>\n",
       "      <td>2019-06-07</td>\n",
       "      <td>1651.500000</td>\n",
       "      <td>1677.000000</td>\n",
       "      <td>1645.699951</td>\n",
       "      <td>1661.199951</td>\n",
       "      <td>1656.011597</td>\n",
       "      <td>956818</td>\n",
       "    </tr>\n",
       "    <tr>\n",
       "      <th>2</th>\n",
       "      <td>2019-06-10</td>\n",
       "      <td>1664.150024</td>\n",
       "      <td>1673.000000</td>\n",
       "      <td>1650.000000</td>\n",
       "      <td>1657.500000</td>\n",
       "      <td>1652.323242</td>\n",
       "      <td>659669</td>\n",
       "    </tr>\n",
       "    <tr>\n",
       "      <th>3</th>\n",
       "      <td>2019-06-11</td>\n",
       "      <td>1659.699951</td>\n",
       "      <td>1684.500000</td>\n",
       "      <td>1655.849976</td>\n",
       "      <td>1675.900024</td>\n",
       "      <td>1670.665771</td>\n",
       "      <td>898314</td>\n",
       "    </tr>\n",
       "    <tr>\n",
       "      <th>4</th>\n",
       "      <td>2019-06-12</td>\n",
       "      <td>1675.900024</td>\n",
       "      <td>1680.000000</td>\n",
       "      <td>1629.000000</td>\n",
       "      <td>1650.949951</td>\n",
       "      <td>1645.793701</td>\n",
       "      <td>1287297</td>\n",
       "    </tr>\n",
       "  </tbody>\n",
       "</table>\n",
       "</div>"
      ],
      "text/plain": [
       "         Date         Open         High          Low        Close  \\\n",
       "0  2019-06-06  1691.000000  1699.150024  1666.150024  1670.849976   \n",
       "1  2019-06-07  1651.500000  1677.000000  1645.699951  1661.199951   \n",
       "2  2019-06-10  1664.150024  1673.000000  1650.000000  1657.500000   \n",
       "3  2019-06-11  1659.699951  1684.500000  1655.849976  1675.900024   \n",
       "4  2019-06-12  1675.900024  1680.000000  1629.000000  1650.949951   \n",
       "\n",
       "     Adj Close   Volume  \n",
       "0  1665.631592   829316  \n",
       "1  1656.011597   956818  \n",
       "2  1652.323242   659669  \n",
       "3  1670.665771   898314  \n",
       "4  1645.793701  1287297  "
      ]
     },
     "execution_count": 110,
     "metadata": {},
     "output_type": "execute_result"
    }
   ],
   "source": [
    "indigo.head()"
   ]
  },
  {
   "cell_type": "code",
   "execution_count": 213,
   "metadata": {},
   "outputs": [
    {
     "data": {
      "image/png": "[encoded data removed]",
      "text/plain": [
       "<matplotlib.figure.Figure at 0x2135e0299e8>"
      ]
     },
     "metadata": {},
     "output_type": "display_data"
    }
   ],
   "source": [
    "plt.plot(indigo['Close'])\n",
    "plt.show()"
   ]
  },
  {
   "cell_type": "code",
   "execution_count": 111,
   "metadata": {},
   "outputs": [
    {
     "data": {
      "text/html": [
       "<div>\n",
       "<style>\n",
       "    .dataframe thead tr:only-child th {\n",
       "        text-align: right;\n",
       "    }\n",
       "\n",
       "    .dataframe thead th {\n",
       "        text-align: left;\n",
       "    }\n",
       "\n",
       "    .dataframe tbody tr th {\n",
       "        vertical-align: top;\n",
       "    }\n",
       "</style>\n",
       "<table border=\"1\" class=\"dataframe\">\n",
       "  <thead>\n",
       "    <tr style=\"text-align: right;\">\n",
       "      <th></th>\n",
       "      <th>Date</th>\n",
       "      <th>Close</th>\n",
       "      <th>Symbol</th>\n",
       "    </tr>\n",
       "  </thead>\n",
       "  <tbody>\n",
       "    <tr>\n",
       "      <th>0</th>\n",
       "      <td>2019-06-06</td>\n",
       "      <td>1670.849976</td>\n",
       "      <td>INDIGO</td>\n",
       "    </tr>\n",
       "    <tr>\n",
       "      <th>1</th>\n",
       "      <td>2019-06-07</td>\n",
       "      <td>1661.199951</td>\n",
       "      <td>INDIGO</td>\n",
       "    </tr>\n",
       "    <tr>\n",
       "      <th>2</th>\n",
       "      <td>2019-06-10</td>\n",
       "      <td>1657.500000</td>\n",
       "      <td>INDIGO</td>\n",
       "    </tr>\n",
       "    <tr>\n",
       "      <th>3</th>\n",
       "      <td>2019-06-11</td>\n",
       "      <td>1675.900024</td>\n",
       "      <td>INDIGO</td>\n",
       "    </tr>\n",
       "    <tr>\n",
       "      <th>4</th>\n",
       "      <td>2019-06-12</td>\n",
       "      <td>1650.949951</td>\n",
       "      <td>INDIGO</td>\n",
       "    </tr>\n",
       "  </tbody>\n",
       "</table>\n",
       "</div>"
      ],
      "text/plain": [
       "         Date        Close  Symbol\n",
       "0  2019-06-06  1670.849976  INDIGO\n",
       "1  2019-06-07  1661.199951  INDIGO\n",
       "2  2019-06-10  1657.500000  INDIGO\n",
       "3  2019-06-11  1675.900024  INDIGO\n",
       "4  2019-06-12  1650.949951  INDIGO"
      ]
     },
     "execution_count": 111,
     "metadata": {},
     "output_type": "execute_result"
    }
   ],
   "source": [
    "symbols=[]\n",
    "indigo['Symbol'] = 'INDIGO'\n",
    "symbols.append(indigo)\n",
    "indigo = indigo[['Date', 'Close', 'Symbol']]\n",
    "indigo.head()"
   ]
  },
  {
   "cell_type": "code",
   "execution_count": 112,
   "metadata": {},
   "outputs": [
    {
     "data": {
      "text/html": [
       "<div>\n",
       "<style>\n",
       "    .dataframe thead tr:only-child th {\n",
       "        text-align: right;\n",
       "    }\n",
       "\n",
       "    .dataframe thead th {\n",
       "        text-align: left;\n",
       "    }\n",
       "\n",
       "    .dataframe tbody tr th {\n",
       "        vertical-align: top;\n",
       "    }\n",
       "</style>\n",
       "<table border=\"1\" class=\"dataframe\">\n",
       "  <thead>\n",
       "    <tr style=\"text-align: right;\">\n",
       "      <th></th>\n",
       "      <th>index</th>\n",
       "      <th>Date</th>\n",
       "      <th>Close</th>\n",
       "      <th>Symbol</th>\n",
       "    </tr>\n",
       "  </thead>\n",
       "  <tbody>\n",
       "    <tr>\n",
       "      <th>0</th>\n",
       "      <td>0</td>\n",
       "      <td>2019-06-06</td>\n",
       "      <td>1327.349976</td>\n",
       "      <td>RIL</td>\n",
       "    </tr>\n",
       "    <tr>\n",
       "      <th>1</th>\n",
       "      <td>1</td>\n",
       "      <td>2019-06-07</td>\n",
       "      <td>1314.900024</td>\n",
       "      <td>RIL</td>\n",
       "    </tr>\n",
       "    <tr>\n",
       "      <th>2</th>\n",
       "      <td>2</td>\n",
       "      <td>2019-06-10</td>\n",
       "      <td>1319.150024</td>\n",
       "      <td>RIL</td>\n",
       "    </tr>\n",
       "    <tr>\n",
       "      <th>3</th>\n",
       "      <td>3</td>\n",
       "      <td>2019-06-11</td>\n",
       "      <td>1329.150024</td>\n",
       "      <td>RIL</td>\n",
       "    </tr>\n",
       "    <tr>\n",
       "      <th>4</th>\n",
       "      <td>4</td>\n",
       "      <td>2019-06-12</td>\n",
       "      <td>1332.150024</td>\n",
       "      <td>RIL</td>\n",
       "    </tr>\n",
       "  </tbody>\n",
       "</table>\n",
       "</div>"
      ],
      "text/plain": [
       "   index        Date        Close Symbol\n",
       "0      0  2019-06-06  1327.349976    RIL\n",
       "1      1  2019-06-07  1314.900024    RIL\n",
       "2      2  2019-06-10  1319.150024    RIL\n",
       "3      3  2019-06-11  1329.150024    RIL\n",
       "4      4  2019-06-12  1332.150024    RIL"
      ]
     },
     "execution_count": 112,
     "metadata": {},
     "output_type": "execute_result"
    }
   ],
   "source": [
    "df = pd.concat([ril, indigo, airtel])\n",
    "df = df.reset_index()\n",
    "df.head()"
   ]
  },
  {
   "cell_type": "code",
   "execution_count": 113,
   "metadata": {},
   "outputs": [
    {
     "data": {
      "text/html": [
       "<div>\n",
       "<style>\n",
       "    .dataframe thead tr:only-child th {\n",
       "        text-align: right;\n",
       "    }\n",
       "\n",
       "    .dataframe thead th {\n",
       "        text-align: left;\n",
       "    }\n",
       "\n",
       "    .dataframe tbody tr th {\n",
       "        vertical-align: top;\n",
       "    }\n",
       "</style>\n",
       "<table border=\"1\" class=\"dataframe\">\n",
       "  <thead>\n",
       "    <tr style=\"text-align: right;\">\n",
       "      <th>Symbol</th>\n",
       "      <th>Date</th>\n",
       "      <th>ARTL</th>\n",
       "      <th>INDIGO</th>\n",
       "      <th>RIL</th>\n",
       "    </tr>\n",
       "  </thead>\n",
       "  <tbody>\n",
       "    <tr>\n",
       "      <th>0</th>\n",
       "      <td>2019-06-06</td>\n",
       "      <td>353.799988</td>\n",
       "      <td>1670.849976</td>\n",
       "      <td>1327.349976</td>\n",
       "    </tr>\n",
       "    <tr>\n",
       "      <th>1</th>\n",
       "      <td>2019-06-07</td>\n",
       "      <td>357.100006</td>\n",
       "      <td>1661.199951</td>\n",
       "      <td>1314.900024</td>\n",
       "    </tr>\n",
       "    <tr>\n",
       "      <th>2</th>\n",
       "      <td>2019-06-10</td>\n",
       "      <td>363.450012</td>\n",
       "      <td>1657.500000</td>\n",
       "      <td>1319.150024</td>\n",
       "    </tr>\n",
       "    <tr>\n",
       "      <th>3</th>\n",
       "      <td>2019-06-11</td>\n",
       "      <td>363.250000</td>\n",
       "      <td>1675.900024</td>\n",
       "      <td>1329.150024</td>\n",
       "    </tr>\n",
       "    <tr>\n",
       "      <th>4</th>\n",
       "      <td>2019-06-12</td>\n",
       "      <td>359.899994</td>\n",
       "      <td>1650.949951</td>\n",
       "      <td>1332.150024</td>\n",
       "    </tr>\n",
       "  </tbody>\n",
       "</table>\n",
       "</div>"
      ],
      "text/plain": [
       "Symbol        Date        ARTL       INDIGO          RIL\n",
       "0       2019-06-06  353.799988  1670.849976  1327.349976\n",
       "1       2019-06-07  357.100006  1661.199951  1314.900024\n",
       "2       2019-06-10  363.450012  1657.500000  1319.150024\n",
       "3       2019-06-11  363.250000  1675.900024  1329.150024\n",
       "4       2019-06-12  359.899994  1650.949951  1332.150024"
      ]
     },
     "execution_count": 113,
     "metadata": {},
     "output_type": "execute_result"
    }
   ],
   "source": [
    "df_pivot = df.pivot('Date','Symbol','Close').reset_index()\n",
    "df_pivot.dropna(axis=1, how='any')\n",
    "df_pivot.head()"
   ]
  },
  {
   "cell_type": "code",
   "execution_count": 116,
   "metadata": {},
   "outputs": [],
   "source": [
    "df_pivot['INDIGO'] =  df_pivot['INDIGO'].astype(float)\n",
    "df_pivot['ARTL'] =  df_pivot['ARTL'].astype(float)\n",
    "df_pivot['RIL'] =  df_pivot['RIL'].astype(float)"
   ]
  },
  {
   "cell_type": "code",
   "execution_count": 120,
   "metadata": {},
   "outputs": [
    {
     "name": "stdout",
     "output_type": "stream",
     "text": [
      "Symbol      ARTL    INDIGO       RIL\n",
      "Symbol                              \n",
      "ARTL    1.000000 -0.710255  0.422792\n",
      "INDIGO -0.710255  1.000000 -0.002914\n",
      "RIL     0.422792 -0.002914  1.000000\n"
     ]
    }
   ],
   "source": [
    "corrMatrix = df_pivot.corr()\n",
    "print (corrMatrix)"
   ]
  },
  {
   "cell_type": "code",
   "execution_count": 130,
   "metadata": {},
   "outputs": [],
   "source": [
    "airtel_series = df_pivot['ARTL']\n",
    "ril_series = df_pivot['RIL']\n",
    "indigo_series = df_pivot['INDIGO']"
   ]
  },
  {
   "cell_type": "code",
   "execution_count": 131,
   "metadata": {},
   "outputs": [],
   "source": [
    "diff_airtel = airtel_series.diff()\n",
    "diff_ril = ril_series.diff()\n",
    "diff_indigo = indigo_series.diff()"
   ]
  },
  {
   "cell_type": "code",
   "execution_count": 134,
   "metadata": {},
   "outputs": [
    {
     "data": {
      "text/plain": [
       "0.23118286744663372"
      ]
     },
     "execution_count": 134,
     "metadata": {},
     "output_type": "execute_result"
    }
   ],
   "source": [
    "diff_ril.corr(diff_indigo)"
   ]
  },
  {
   "cell_type": "code",
   "execution_count": 204,
   "metadata": {},
   "outputs": [],
   "source": [
    "ril_result = seasonal_decompose(np.asarray(ril_series), freq=3)\n",
    "airtel_result = seasonal_decompose(np.asarray(airtel_series), freq=3)\n",
    "indigo_result = seasonal_decompose(np.asarray(indigo_series), freq=3)"
   ]
  },
  {
   "cell_type": "code",
   "execution_count": 157,
   "metadata": {},
   "outputs": [],
   "source": [
    "ril_trend = result.trend\n",
    "ril_seasonal = result.seasonal\n",
    "ril_residual = result.resid"
   ]
  },
  {
   "cell_type": "code",
   "execution_count": 225,
   "metadata": {},
   "outputs": [
    {
     "data": {
      "text/plain": [
       "0.41782321369453324"
      ]
     },
     "execution_count": 225,
     "metadata": {},
     "output_type": "execute_result"
    }
   ],
   "source": [
    "pearsonr(ril_result.trend[1:243], airtel_result.trend[1:243])[0] #RELIANCE AND AIRTEL"
   ]
  },
  {
   "cell_type": "code",
   "execution_count": 228,
   "metadata": {},
   "outputs": [
    {
     "data": {
      "text/plain": [
       "0.41782321369453324"
      ]
     },
     "execution_count": 228,
     "metadata": {},
     "output_type": "execute_result"
    }
   ],
   "source": [
    "pearsonr(ril_result.trend[1:243], airtel_result.trend[1:243])[0]"
   ]
  },
  {
   "cell_type": "code",
   "execution_count": 219,
   "metadata": {},
   "outputs": [
    {
     "data": {
      "text/plain": [
       "-0.0001829111530212444"
      ]
     },
     "execution_count": 219,
     "metadata": {},
     "output_type": "execute_result"
    }
   ],
   "source": [
    "pearsonr(ril_result.trend[1:243], indigo_result.trend[1:243])[0] #RELIANCE AND INDIGO"
   ]
  },
  {
   "cell_type": "code",
   "execution_count": 229,
   "metadata": {},
   "outputs": [
    {
     "data": {
      "text/plain": [
       "-0.71884634760632415"
      ]
     },
     "execution_count": 229,
     "metadata": {},
     "output_type": "execute_result"
    }
   ],
   "source": [
    "pearsonr(indigo_result.trend[1:243], airtel_result.trend[1:243])[0] #INDIGO AND AIRTEL"
   ]
  },
  {
   "cell_type": "code",
   "execution_count": 215,
   "metadata": {
    "collapsed": true
   },
   "outputs": [],
   "source": [
    "indigo_trend_resid = indigo_result.resid[1:243] * indigo_result.trend[1:243]\n",
    "airtel_trend_resid = airtel_result.resid[1:243] * airtel_result.trend[1:243]"
   ]
  },
  {
   "cell_type": "code",
   "execution_count": 217,
   "metadata": {},
   "outputs": [
    {
     "data": {
      "text/plain": [
       "0.23028234137260162"
      ]
     },
     "execution_count": 217,
     "metadata": {},
     "output_type": "execute_result"
    }
   ],
   "source": [
    "pearsonr(indigo_trend_resid, airtel_trend_resid)[0]"
   ]
  },
  {
   "cell_type": "code",
   "execution_count": null,
   "metadata": {
    "collapsed": true
   },
   "outputs": [],
   "source": []
  }
 ],
 "metadata": {
  "kernelspec": {
   "display_name": "Python 3",
   "language": "python",
   "name": "python3"
  },
  "language_info": {
   "codemirror_mode": {
    "name": "ipython",
    "version": 3
   },
   "file_extension": ".py",
   "mimetype": "text/x-python",
   "name": "python",
   "nbconvert_exporter": "python",
   "pygments_lexer": "ipython3",
   "version": "3.6.1"
  }
 },
 "nbformat": 4,
 "nbformat_minor": 2
}
